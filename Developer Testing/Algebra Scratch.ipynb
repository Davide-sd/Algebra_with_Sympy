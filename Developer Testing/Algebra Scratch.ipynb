{
 "cells": [
  {
   "cell_type": "code",
   "execution_count": 1,
   "metadata": {},
   "outputs": [
    {
     "name": "stdout",
     "output_type": "stream",
     "text": [
      "Automatic typesetting of output disabled so output code can be copied into code cells.\n",
      "    To enable automatic typesetting of output issue the command `sp.init_printing(pretty_print=True)`.\n",
      "Automatic display of math operation activated for `dmo aware` operations.\n"
     ]
    }
   ],
   "source": [
    "from Display_Math_Operations import *"
   ]
  },
  {
   "cell_type": "code",
   "execution_count": 2,
   "metadata": {},
   "outputs": [
    {
     "data": {
      "text/html": [
       "$$RG\\equiv R T n - V p$$"
      ],
      "text/plain": [
       "<IPython.core.display.HTML object>"
      ]
     },
     "metadata": {},
     "output_type": "display_data"
    }
   ],
   "source": [
    "sp.var('p V n R T')\n",
    "dmo(RG=n*R*T-p*V)"
   ]
  },
  {
   "cell_type": "code",
   "execution_count": 3,
   "metadata": {},
   "outputs": [
    {
     "data": {
      "text/html": [
       "$$- V p$$"
      ],
      "text/plain": [
       "<IPython.core.display.HTML object>"
      ]
     },
     "metadata": {},
     "output_type": "display_data"
    },
    {
     "data": {
      "text/plain": [
       "-V*p"
      ]
     },
     "execution_count": 3,
     "metadata": {},
     "output_type": "execute_result"
    }
   ],
   "source": [
    "dmo(RG-R*T*n,code=True)"
   ]
  },
  {
   "cell_type": "code",
   "execution_count": 4,
   "metadata": {},
   "outputs": [
    {
     "data": {
      "text/html": [
       "$$V$$"
      ],
      "text/plain": [
       "<IPython.core.display.HTML object>"
      ]
     },
     "metadata": {},
     "output_type": "display_data"
    },
    {
     "data": {
      "text/plain": [
       "V"
      ]
     },
     "execution_count": 4,
     "metadata": {},
     "output_type": "execute_result"
    }
   ],
   "source": [
    "dmo((RG-R*T*n)/(-p),code=True)"
   ]
  },
  {
   "cell_type": "code",
   "execution_count": 5,
   "metadata": {},
   "outputs": [],
   "source": [
    "def Eq(lhs,rhs):\n",
    "    print(str(lhs)+' = '+str(rhs))\n",
    "    return([lhs,rhs])"
   ]
  },
  {
   "cell_type": "code",
   "execution_count": 6,
   "metadata": {},
   "outputs": [
    {
     "name": "stdout",
     "output_type": "stream",
     "text": [
      "V*p = R*T*n\n"
     ]
    },
    {
     "data": {
      "text/plain": [
       "[V*p, R*T*n]"
      ]
     },
     "execution_count": 6,
     "metadata": {},
     "output_type": "execute_result"
    }
   ],
   "source": [
    "Eq(p*V,n*R*T)"
   ]
  },
  {
   "cell_type": "code",
   "execution_count": 7,
   "metadata": {},
   "outputs": [
    {
     "name": "stdout",
     "output_type": "stream",
     "text": [
      "V*p = R*T*n\n"
     ]
    }
   ],
   "source": [
    "eq1=Eq(p*V,n*R*T)"
   ]
  },
  {
   "cell_type": "code",
   "execution_count": 8,
   "metadata": {},
   "outputs": [
    {
     "data": {
      "text/plain": [
       "[V*p, R*T*n]"
      ]
     },
     "execution_count": 8,
     "metadata": {},
     "output_type": "execute_result"
    }
   ],
   "source": [
    "eq1"
   ]
  },
  {
   "cell_type": "code",
   "execution_count": 9,
   "metadata": {},
   "outputs": [],
   "source": [
    "#eq1/V throws error"
   ]
  },
  {
   "cell_type": "code",
   "execution_count": 10,
   "metadata": {},
   "outputs": [],
   "source": [
    "sp.expr?"
   ]
  },
  {
   "cell_type": "code",
   "execution_count": 11,
   "metadata": {},
   "outputs": [
    {
     "data": {
      "text/plain": [
       "Eq(V*p, R*T*n)"
      ]
     },
     "execution_count": 11,
     "metadata": {},
     "output_type": "execute_result"
    }
   ],
   "source": [
    "eq3=sp.Eq(p*V,n*R*T,evaluate=False)\n",
    "eq3"
   ]
  },
  {
   "cell_type": "code",
   "execution_count": 12,
   "metadata": {},
   "outputs": [
    {
     "data": {
      "text/plain": [
       "'V p = R T n'"
      ]
     },
     "execution_count": 12,
     "metadata": {},
     "output_type": "execute_result"
    }
   ],
   "source": [
    "sp.latex(eq3)"
   ]
  },
  {
   "cell_type": "code",
   "execution_count": 13,
   "metadata": {},
   "outputs": [
    {
     "data": {
      "text/plain": [
       "(Eq(V*p, R*T*n))/V"
      ]
     },
     "execution_count": 13,
     "metadata": {},
     "output_type": "execute_result"
    }
   ],
   "source": [
    "eq3/V"
   ]
  },
  {
   "cell_type": "code",
   "execution_count": 14,
   "metadata": {},
   "outputs": [
    {
     "data": {
      "text/plain": [
       "Eq(V*p, R*T*n)"
      ]
     },
     "execution_count": 14,
     "metadata": {},
     "output_type": "execute_result"
    }
   ],
   "source": [
    "tstsymeq=sp.Eq(p*V,n*R*T)\n",
    "tstsymeq"
   ]
  },
  {
   "cell_type": "code",
   "execution_count": 15,
   "metadata": {},
   "outputs": [
    {
     "data": {
      "text/plain": [
       "'(Eq(V*p, R*T*n))/V'"
      ]
     },
     "execution_count": 15,
     "metadata": {},
     "output_type": "execute_result"
    }
   ],
   "source": [
    "str((tstsymeq/V))"
   ]
  },
  {
   "cell_type": "code",
   "execution_count": 16,
   "metadata": {},
   "outputs": [
    {
     "data": {
      "text/plain": [
       "sympy.core.relational.Equality"
      ]
     },
     "execution_count": 16,
     "metadata": {},
     "output_type": "execute_result"
    }
   ],
   "source": [
    "sp.Eq"
   ]
  },
  {
   "cell_type": "code",
   "execution_count": 17,
   "metadata": {},
   "outputs": [],
   "source": [
    "class equ(sp.Expr):\n",
    "    \n",
    "    def __init__(self,lhs,rhs):\n",
    "        self.lhs = lhs\n",
    "        self.rhs = rhs\n",
    "#####\n",
    "# Overrides of sp.Expr Arithmatic\n",
    "#####\n",
    "    def __pos__(self):\n",
    "        return self\n",
    "\n",
    "    def __neg__(self):\n",
    "        # Mul has its own __neg__ routine, so we just\n",
    "        # create a 2-args Mul with the -1 in the canonical\n",
    "        # slot 0.\n",
    "        c = self.is_commutative\n",
    "        lhs =sp.Mul._from_args((S.NegativeOne, self.lhs), c)\n",
    "        rhs =sp.Mul._from_args((S.NegativeOne, self.rhs), c)        \n",
    "        return equ(lhs,rhs)\n",
    "\n",
    "    def __abs__(self):\n",
    "        from sympy import Abs\n",
    "        lhs=Abs(self.lhs)\n",
    "        rhs=Abs(self.rhs)\n",
    "        return equ(lhs,rhs)\n",
    "\n",
    "    def __add__(self, other):\n",
    "        lhs = sp.Add(self.lhs,other)\n",
    "        rhs = sp.Add(self.rhs,other)\n",
    "        return equ(lhs,rhs)\n",
    "\n",
    "    def __radd__(self, other):\n",
    "        lhs = sp.Add(other,self.lhs)\n",
    "        rhs = sp.Add(other,self.rhs)\n",
    "        return equ(lhs,rhs)\n",
    "\n",
    "    def __sub__(self, other):\n",
    "        lhs = sp.Add(self.lhs,-other)\n",
    "        rhs = sp.Add(self.rhs,-other)\n",
    "        return equ(lhs,rhs)\n",
    "\n",
    "    def __rsub__(self, other):\n",
    "        lhs = sp.Add(other,-self.lhs)\n",
    "        rhs = sp.Add(other,-self.rhs)\n",
    "        return equ(lhs,rhs)\n",
    "\n",
    "    def __mul__(self, other):\n",
    "        lhs = sp.Mul(self.lhs,other)\n",
    "        rhs = sp.Mul(self.rhs,other)\n",
    "        return equ(lhs,rhs)\n",
    "    \n",
    "    def __rmul__(self, other):\n",
    "        lhs = sp.Mul(other,self.lhs)\n",
    "        rhs = sp.Mul(other,self.rhs)\n",
    "        return equ(lhs,rhs)\n",
    "\n",
    "    def _pow(self, other):\n",
    "        lhs = sp.Pow(self.lhs,other)\n",
    "        rhs = sp.Pow(self.rhs,other)\n",
    "        return equ(lhs,rhs)\n",
    "\n",
    "    def __rpow__(self, other):\n",
    "        lhs = sp.Pow(other,self.lhs)\n",
    "        rhs = sp.Pow(other,self.rhs)\n",
    "        return equ(lhs,rhs)\n",
    "\n",
    "    def __div__(self, other):\n",
    "        return self.__mul__(sp.Pow(other, sp.S.NegativeOne))\n",
    "\n",
    "    def __rdiv__(self, other):\n",
    "        raise NotImplemented('Division by equation not supported.')\n",
    "\n",
    "    __truediv__ = __div__\n",
    "    __rtruediv__ = __rdiv__\n",
    "\n",
    "    def __mod__(self, other):\n",
    "        lhs = sp.Mod(self.lhs,other)\n",
    "        rhs = sp.Mod(self.rhs,other)\n",
    "        return equ(lhs,rhs)\n",
    "\n",
    "    def __rmod__(self, other):\n",
    "        raise NotImplemented('Mod by equation not supported.')\n",
    "            \n",
    "    def __repr__(self):\n",
    "        return(str(self.lhs)+' = '+str(self.rhs))\n",
    "    \n",
    "    def _latex(self,obj,**kwargs):\n",
    "        return(sp.latex(self.lhs)+'='+sp.latex(self.rhs))\n",
    "\n",
    "class Function2(sp.Function):\n",
    "    def __new__(cls, *arg, **kwargs):\n",
    "        if (type(arg[0]) is equ):\n",
    "            temptuple=(arg[0].lhs,)+arg[1:]\n",
    "            lhs = super().__new__(cls, *temptuple, **kwargs)\n",
    "            temptuple=(arg[0].rhs,)+arg[1:]\n",
    "            rhs = super().__new__(cls, *temptuple, **kwargs)\n",
    "            return (equ(lhs,rhs))\n",
    "        else:\n",
    "            return(super().__new__(cls, *arg, **kwargs))\n",
    "        \n",
    "class newlog(Function2,sp.log):\n",
    "    pass\n",
    "\n",
    "#def newlog(arg, base=None):\n",
    "#    if (base is None):\n",
    "#        base=sp.exp(1)\n",
    "#    if(type(arg) is equ):\n",
    "#        lhs = log(arg.lhs,base)\n",
    "#        rhs = log(arg.rhs,base)\n",
    "#        return(equ(lhs,rhs))\n",
    "#    else:\n",
    "#        return(log(arg,base))\n",
    "    "
   ]
  },
  {
   "cell_type": "code",
   "execution_count": 18,
   "metadata": {},
   "outputs": [
    {
     "data": {
      "text/html": [
       "$$tstequ\\equiv V p=R T n$$"
      ],
      "text/plain": [
       "<IPython.core.display.HTML object>"
      ]
     },
     "metadata": {},
     "output_type": "display_data"
    },
    {
     "data": {
      "text/plain": [
       "V*p = R*T*n"
      ]
     },
     "execution_count": 18,
     "metadata": {},
     "output_type": "execute_result"
    }
   ],
   "source": [
    "dmo(tstequ = equ(p*V,n*R*T))\n",
    "tstequ"
   ]
  },
  {
   "cell_type": "code",
   "execution_count": 19,
   "metadata": {},
   "outputs": [
    {
     "data": {
      "text/plain": [
       "T*V*p = R*T**2*n"
      ]
     },
     "execution_count": 19,
     "metadata": {},
     "output_type": "execute_result"
    }
   ],
   "source": [
    "tstequ*T"
   ]
  },
  {
   "cell_type": "code",
   "execution_count": 20,
   "metadata": {},
   "outputs": [
    {
     "data": {
      "text/plain": [
       "'V=\\\\frac{R T n}{p}'"
      ]
     },
     "execution_count": 20,
     "metadata": {},
     "output_type": "execute_result"
    }
   ],
   "source": [
    "sp.latex(tstequ/p)"
   ]
  },
  {
   "cell_type": "code",
   "execution_count": 21,
   "metadata": {},
   "outputs": [
    {
     "data": {
      "text/plain": [
       "V**2*p**2 = R**2*T**2*n**2"
      ]
     },
     "execution_count": 21,
     "metadata": {},
     "output_type": "execute_result"
    }
   ],
   "source": [
    "tstequ**2"
   ]
  },
  {
   "cell_type": "code",
   "execution_count": 22,
   "metadata": {},
   "outputs": [
    {
     "data": {
      "text/html": [
       "$$\\left|{V p}\\right|=\\left|{R T n}\\right|$$"
      ],
      "text/plain": [
       "<IPython.core.display.HTML object>"
      ]
     },
     "metadata": {},
     "output_type": "display_data"
    }
   ],
   "source": [
    "dmo(abs(tstequ))"
   ]
  },
  {
   "cell_type": "code",
   "execution_count": 23,
   "metadata": {},
   "outputs": [
    {
     "data": {
      "text/plain": [
       "V = 0.0244734726132267*J/Pa"
      ]
     },
     "execution_count": 23,
     "metadata": {},
     "output_type": "execute_result"
    }
   ],
   "source": [
    "sp.var('J mol K Pa')\n",
    "tsteq2=tstequ/p\n",
    "tsteq2.subs({R:8.314*J/mol/K,n:1.00*mol,T:298*K,p:101235*Pa})"
   ]
  },
  {
   "cell_type": "code",
   "execution_count": 24,
   "metadata": {},
   "outputs": [
    {
     "data": {
      "text/plain": [
       "Abs(V*p) = Abs(R*T*n)"
      ]
     },
     "execution_count": 24,
     "metadata": {},
     "output_type": "execute_result"
    }
   ],
   "source": [
    "_"
   ]
  },
  {
   "cell_type": "code",
   "execution_count": 25,
   "metadata": {},
   "outputs": [
    {
     "data": {
      "text/plain": [
       "V = 0.0244734726132267*m**3"
      ]
     },
     "execution_count": 25,
     "metadata": {},
     "output_type": "execute_result"
    }
   ],
   "source": [
    "sp.var('kg m s')\n",
    "tsteq2.subs({R:8.314*J/mol/K,n:1.00*mol,T:298*K,p:101235*Pa}).subs({J:kg*m**2/s**2,Pa:kg/m/s**2})"
   ]
  },
  {
   "cell_type": "code",
   "execution_count": 26,
   "metadata": {},
   "outputs": [
    {
     "data": {
      "text/plain": [
       "newlog(V*p)/newlog(10)"
      ]
     },
     "execution_count": 26,
     "metadata": {},
     "output_type": "execute_result"
    }
   ],
   "source": [
    "newlog(p*V,10)"
   ]
  },
  {
   "cell_type": "code",
   "execution_count": 27,
   "metadata": {},
   "outputs": [
    {
     "data": {
      "text/plain": [
       "newlog(V*p)/newlog(10) = newlog(R*T*n)/newlog(10)"
      ]
     },
     "execution_count": 27,
     "metadata": {},
     "output_type": "execute_result"
    }
   ],
   "source": [
    "newlog(tstequ,10)"
   ]
  },
  {
   "cell_type": "markdown",
   "metadata": {},
   "source": [
    "So will need to define overrides for all arithmatic and function calls on an expression...Does that mean making functions aware of equations? Can I use the `_is_distributive` property? I am not sure it is defined."
   ]
  },
  {
   "cell_type": "code",
   "execution_count": 28,
   "metadata": {},
   "outputs": [
    {
     "ename": "NameError",
     "evalue": "name '_50' is not defined",
     "output_type": "error",
     "traceback": [
      "\u001b[0;31m---------------------------------------------------------------------------\u001b[0m",
      "\u001b[0;31mNameError\u001b[0m                                 Traceback (most recent call last)",
      "\u001b[0;32m<ipython-input-28-fda9471420b4>\u001b[0m in \u001b[0;36m<module>\u001b[0;34m\u001b[0m\n\u001b[0;32m----> 1\u001b[0;31m \u001b[0m_50\u001b[0m\u001b[0;34m\u001b[0m\u001b[0;34m\u001b[0m\u001b[0m\n\u001b[0m",
      "\u001b[0;31mNameError\u001b[0m: name '_50' is not defined"
     ]
    }
   ],
   "source": [
    "_50"
   ]
  },
  {
   "cell_type": "code",
   "execution_count": 29,
   "metadata": {},
   "outputs": [
    {
     "data": {
      "text/plain": [
       "log(V*p)"
      ]
     },
     "execution_count": 29,
     "metadata": {},
     "output_type": "execute_result"
    }
   ],
   "source": [
    "sp.log(p*V)"
   ]
  },
  {
   "cell_type": "code",
   "execution_count": 30,
   "metadata": {},
   "outputs": [
    {
     "data": {
      "text/plain": [
       "Abs(V*p) = Abs(R*T*n)"
      ]
     },
     "execution_count": 30,
     "metadata": {},
     "output_type": "execute_result"
    }
   ],
   "source": [
    "_"
   ]
  },
  {
   "cell_type": "code",
   "execution_count": 31,
   "metadata": {},
   "outputs": [
    {
     "ename": "NameError",
     "evalue": "name '_50' is not defined",
     "output_type": "error",
     "traceback": [
      "\u001b[0;31m---------------------------------------------------------------------------\u001b[0m",
      "\u001b[0;31mNameError\u001b[0m                                 Traceback (most recent call last)",
      "\u001b[0;32m<ipython-input-31-fda9471420b4>\u001b[0m in \u001b[0;36m<module>\u001b[0;34m\u001b[0m\n\u001b[0;32m----> 1\u001b[0;31m \u001b[0m_50\u001b[0m\u001b[0;34m\u001b[0m\u001b[0;34m\u001b[0m\u001b[0m\n\u001b[0m",
      "\u001b[0;31mNameError\u001b[0m: name '_50' is not defined"
     ]
    }
   ],
   "source": [
    "_50"
   ]
  },
  {
   "cell_type": "code",
   "execution_count": null,
   "metadata": {},
   "outputs": [],
   "source": [
    "_"
   ]
  },
  {
   "cell_type": "code",
   "execution_count": null,
   "metadata": {},
   "outputs": [],
   "source": []
  }
 ],
 "metadata": {
  "kernelspec": {
   "display_name": "Python 3",
   "language": "python",
   "name": "python3"
  },
  "language_info": {
   "codemirror_mode": {
    "name": "ipython",
    "version": 3
   },
   "file_extension": ".py",
   "mimetype": "text/x-python",
   "name": "python",
   "nbconvert_exporter": "python",
   "pygments_lexer": "ipython3",
   "version": "3.6.9"
  }
 },
 "nbformat": 4,
 "nbformat_minor": 4
}
