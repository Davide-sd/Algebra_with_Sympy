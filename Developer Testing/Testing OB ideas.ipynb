{
 "cells": [
  {
   "cell_type": "code",
   "execution_count": 1,
   "metadata": {
    "scrolled": true
   },
   "outputs": [],
   "source": [
    "from Equation_OB_ver import *"
   ]
  },
  {
   "cell_type": "code",
   "execution_count": 2,
   "metadata": {},
   "outputs": [
    {
     "data": {
      "text/plain": [
       "(a, b, c)"
      ]
     },
     "execution_count": 2,
     "metadata": {},
     "output_type": "execute_result"
    }
   ],
   "source": [
    "# declare some sympy symbolic variables\n",
    "var('a b c')"
   ]
  },
  {
   "cell_type": "code",
   "execution_count": 3,
   "metadata": {},
   "outputs": [
    {
     "data": {
      "text/latex": [
       "$\\displaystyle a=\\frac{b}{c}$"
      ],
      "text/plain": [
       "a=b/c"
      ]
     },
     "execution_count": 3,
     "metadata": {},
     "output_type": "execute_result"
    }
   ],
   "source": [
    "# Create a simple equation.\n",
    "Equation(a,b/c)"
   ]
  },
  {
   "cell_type": "code",
   "execution_count": 4,
   "metadata": {},
   "outputs": [
    {
     "data": {
      "text/latex": [
       "$\\displaystyle \\log{\\left(a \\right)}=\\log{\\left(\\frac{b}{c} \\right)}$"
      ],
      "text/plain": [
       "log(a)=log(b/c)"
      ]
     },
     "execution_count": 4,
     "metadata": {},
     "output_type": "execute_result"
    }
   ],
   "source": [
    "# Apply a SymPy function to an equation.\n",
    "(Eqn(a,b/c)).applyfunc(log)"
   ]
  },
  {
   "cell_type": "code",
   "execution_count": 5,
   "metadata": {},
   "outputs": [
    {
     "data": {
      "text/latex": [
       "$\\displaystyle a=\\frac{b}{c}$"
      ],
      "text/plain": [
       "a=b/c"
      ]
     },
     "execution_count": 5,
     "metadata": {},
     "output_type": "execute_result"
    }
   ],
   "source": [
    "t = (Eqn(a,b/c))\n",
    "t"
   ]
  },
  {
   "cell_type": "code",
   "execution_count": 6,
   "metadata": {},
   "outputs": [
    {
     "data": {
      "text/latex": [
       "$\\displaystyle \\sqrt[3]{a}=\\sqrt[3]{\\frac{b}{c}}$"
      ],
      "text/plain": [
       "a**(1/3)=(b/c)**(1/3)"
      ]
     },
     "execution_count": 6,
     "metadata": {},
     "output_type": "execute_result"
    }
   ],
   "source": [
    "t.applyfunc(root,3)"
   ]
  },
  {
   "cell_type": "code",
   "execution_count": 7,
   "metadata": {},
   "outputs": [
    {
     "data": {
      "text/latex": [
       "$\\displaystyle 0=\\frac{2}{c^{3}}$"
      ],
      "text/plain": [
       "0=2/c**3"
      ]
     },
     "execution_count": 7,
     "metadata": {},
     "output_type": "execute_result"
    }
   ],
   "source": [
    "# This is not very sensible. Fix with ideas from dmo?\n",
    "t.applyfunc(diff,c,2,b)"
   ]
  },
  {
   "cell_type": "code",
   "execution_count": 8,
   "metadata": {},
   "outputs": [
    {
     "data": {
      "text/latex": [
       "$\\displaystyle \\frac{d^{3}}{d c^{2}d b} a=\\frac{2}{c^{3}}$"
      ],
      "text/plain": [
       "Derivative(a, b, (c, 2))=2/c**3"
      ]
     },
     "execution_count": 8,
     "metadata": {},
     "output_type": "execute_result"
    }
   ],
   "source": [
    "# Only fixed for wrapper.\n",
    "# Derivative not good about picking \\partial vs simply d for unevaluated derivatives.\n",
    "diff(t,c,2,b)"
   ]
  },
  {
   "cell_type": "code",
   "execution_count": 9,
   "metadata": {},
   "outputs": [
    {
     "name": "stdout",
     "output_type": "stream",
     "text": [
      "a*c=b/c\n"
     ]
    },
    {
     "data": {
      "text/latex": [
       "$\\displaystyle \\frac{d}{d c} a=\\frac{2 b}{c^{3}}$"
      ],
      "text/plain": [
       "Derivative(a, c)=2*b/c**3"
      ]
     },
     "execution_count": 9,
     "metadata": {},
     "output_type": "execute_result"
    }
   ],
   "source": [
    "q=Eqn(a*c,b/c)\n",
    "print(q)\n",
    "diff(q,c,2)"
   ]
  },
  {
   "cell_type": "code",
   "execution_count": 10,
   "metadata": {},
   "outputs": [
    {
     "data": {
      "text/latex": [
       "$\\displaystyle a=- \\frac{b}{c^{2}}$"
      ],
      "text/plain": [
       "a=-b/c**2"
      ]
     },
     "execution_count": 10,
     "metadata": {},
     "output_type": "execute_result"
    }
   ],
   "source": [
    "diff(q,c)"
   ]
  },
  {
   "cell_type": "code",
   "execution_count": 11,
   "metadata": {},
   "outputs": [
    {
     "data": {
      "text/latex": [
       "$\\displaystyle \\frac{\\partial^{2}}{\\partial c\\partial b} a c=- \\frac{1}{c^{2}}$"
      ],
      "text/plain": [
       "Derivative(a*c, b, c)=-1/c**2"
      ]
     },
     "execution_count": 11,
     "metadata": {},
     "output_type": "execute_result"
    }
   ],
   "source": [
    "diff(diff(q,b),c)"
   ]
  },
  {
   "cell_type": "code",
   "execution_count": 12,
   "metadata": {},
   "outputs": [
    {
     "data": {
      "text/latex": [
       "$\\displaystyle \\frac{\\partial^{2}}{\\partial c\\partial b} a c=- \\frac{1}{c^{2}}$"
      ],
      "text/plain": [
       "Derivative(a*c, b, c)=-1/c**2"
      ]
     },
     "execution_count": 12,
     "metadata": {},
     "output_type": "execute_result"
    }
   ],
   "source": [
    "diff(q,b,c)"
   ]
  },
  {
   "cell_type": "code",
   "execution_count": 13,
   "metadata": {},
   "outputs": [
    {
     "data": {
      "text/latex": [
       "$\\displaystyle \\frac{d}{d b} a=- \\frac{1}{c^{2}}$"
      ],
      "text/plain": [
       "Derivative(a, b)=-1/c**2"
      ]
     },
     "execution_count": 13,
     "metadata": {},
     "output_type": "execute_result"
    }
   ],
   "source": [
    "diff(diff(q,c),b)"
   ]
  },
  {
   "cell_type": "code",
   "execution_count": 14,
   "metadata": {},
   "outputs": [
    {
     "data": {
      "text/latex": [
       "$\\displaystyle \\frac{\\partial^{2}}{\\partial c\\partial b} a c=- \\frac{1}{c^{2}}$"
      ],
      "text/plain": [
       "Derivative(a*c, b, c)=-1/c**2"
      ]
     },
     "execution_count": 14,
     "metadata": {},
     "output_type": "execute_result"
    }
   ],
   "source": [
    "diff(q,c,b)"
   ]
  },
  {
   "cell_type": "code",
   "execution_count": 15,
   "metadata": {},
   "outputs": [
    {
     "data": {
      "text/latex": [
       "$\\displaystyle a b c=\\frac{b^{2}}{2 c}$"
      ],
      "text/plain": [
       "a*b*c=b**2/(2*c)"
      ]
     },
     "execution_count": 15,
     "metadata": {},
     "output_type": "execute_result"
    }
   ],
   "source": [
    "# Not a very sensible result. Fixed in wrapper.\n",
    "q.applyfunc(integrate,b)"
   ]
  },
  {
   "cell_type": "code",
   "execution_count": 16,
   "metadata": {},
   "outputs": [
    {
     "data": {
      "text/latex": [
       "$\\displaystyle \\frac{b^{2}}{2 c}$"
      ],
      "text/plain": [
       "b**2/(2*c)"
      ]
     },
     "execution_count": 16,
     "metadata": {},
     "output_type": "execute_result"
    }
   ],
   "source": [
    "integrate(q,b,side='rhs')"
   ]
  },
  {
   "cell_type": "code",
   "execution_count": 17,
   "metadata": {},
   "outputs": [
    {
     "data": {
      "text/latex": [
       "$\\displaystyle a b c$"
      ],
      "text/plain": [
       "a*b*c"
      ]
     },
     "execution_count": 17,
     "metadata": {},
     "output_type": "execute_result"
    }
   ],
   "source": [
    "integrate(q,b,side='lhs')"
   ]
  },
  {
   "cell_type": "code",
   "execution_count": 18,
   "metadata": {
    "scrolled": true
   },
   "outputs": [
    {
     "data": {
      "text/latex": [
       "$\\displaystyle \\int a c\\, db=\\frac{b^{2}}{2 c}$"
      ],
      "text/plain": [
       "Integral(a*c, b)=b**2/(2*c)"
      ]
     },
     "execution_count": 18,
     "metadata": {},
     "output_type": "execute_result"
    }
   ],
   "source": [
    "# Make a pretty statement of integration from an equation\n",
    "Eqn(Integral(q.lhs,b),integrate(q,b,side='rhs'))"
   ]
  },
  {
   "cell_type": "code",
   "execution_count": 19,
   "metadata": {},
   "outputs": [
    {
     "data": {
      "text/latex": [
       "$\\displaystyle \\int a c\\, db=\\frac{b^{2}}{2 c}$"
      ],
      "text/plain": [
       "Integral(a*c, b)=b**2/(2*c)"
      ]
     },
     "execution_count": 19,
     "metadata": {},
     "output_type": "execute_result"
    }
   ],
   "source": [
    "# This duplicated by the convenience function self.integ\n",
    "q.integ(b)"
   ]
  },
  {
   "cell_type": "code",
   "execution_count": 20,
   "metadata": {},
   "outputs": [
    {
     "data": {
      "text/latex": [
       "$\\displaystyle a c=\\frac{b}{c}$"
      ],
      "text/plain": [
       "a*c=b/c"
      ]
     },
     "execution_count": 20,
     "metadata": {},
     "output_type": "execute_result"
    }
   ],
   "source": [
    "q"
   ]
  },
  {
   "cell_type": "code",
   "execution_count": 21,
   "metadata": {},
   "outputs": [
    {
     "data": {
      "text/latex": [
       "$\\displaystyle a=\\frac{b}{c}$"
      ],
      "text/plain": [
       "a=b/c"
      ]
     },
     "execution_count": 21,
     "metadata": {},
     "output_type": "execute_result"
    }
   ],
   "source": [
    "t.applyfunc(log).applyfunc(exp)"
   ]
  },
  {
   "cell_type": "code",
   "execution_count": 22,
   "metadata": {},
   "outputs": [
    {
     "data": {
      "text/latex": [
       "$\\displaystyle a=\\frac{b}{c}$"
      ],
      "text/plain": [
       "a=b/c"
      ]
     },
     "execution_count": 22,
     "metadata": {},
     "output_type": "execute_result"
    }
   ],
   "source": [
    "exp(log(t))"
   ]
  },
  {
   "cell_type": "code",
   "execution_count": 23,
   "metadata": {},
   "outputs": [
    {
     "name": "stdout",
     "output_type": "stream",
     "text": [
      "exp(a)=exp(b/c)\n"
     ]
    },
    {
     "data": {
      "text/latex": [
       "$\\displaystyle \\log{\\left(e^{a} \\right)}=\\log{\\left(e^{\\frac{b}{c}} \\right)}$"
      ],
      "text/plain": [
       "log(exp(a))=log(exp(b/c))"
      ]
     },
     "execution_count": 23,
     "metadata": {},
     "output_type": "execute_result"
    }
   ],
   "source": [
    "g =t.applyfunc(exp)\n",
    "pretty_print(g)\n",
    "g.applyfunc(log)"
   ]
  },
  {
   "cell_type": "code",
   "execution_count": 24,
   "metadata": {},
   "outputs": [
    {
     "data": {
      "text/latex": [
       "$\\displaystyle \\log{\\left(e^{a} \\right)}=\\log{\\left(e^{\\frac{b}{c}} \\right)}$"
      ],
      "text/plain": [
       "log(exp(a))=log(exp(b/c))"
      ]
     },
     "execution_count": 24,
     "metadata": {},
     "output_type": "execute_result"
    }
   ],
   "source": [
    "# Note problem with simplify -- trying to simplify relop\n",
    "g.applyfunc(log).simplify()"
   ]
  },
  {
   "cell_type": "code",
   "execution_count": 25,
   "metadata": {},
   "outputs": [
    {
     "data": {
      "text/latex": [
       "$\\displaystyle \\log{\\left(e^{a} \\right)}$"
      ],
      "text/plain": [
       "log(exp(a))"
      ]
     },
     "execution_count": 25,
     "metadata": {},
     "output_type": "execute_result"
    }
   ],
   "source": [
    "log(exp(a),exp(1))"
   ]
  },
  {
   "cell_type": "code",
   "execution_count": 26,
   "metadata": {},
   "outputs": [
    {
     "data": {
      "text/latex": [
       "$\\displaystyle a$"
      ],
      "text/plain": [
       "a"
      ]
     },
     "execution_count": 26,
     "metadata": {},
     "output_type": "execute_result"
    }
   ],
   "source": [
    "(exp(log(a)))"
   ]
  },
  {
   "cell_type": "code",
   "execution_count": 27,
   "metadata": {},
   "outputs": [
    {
     "data": {
      "text/latex": [
       "$\\displaystyle a c=b$"
      ],
      "text/plain": [
       "a*c=b"
      ]
     },
     "execution_count": 27,
     "metadata": {},
     "output_type": "execute_result"
    }
   ],
   "source": [
    "c*t"
   ]
  },
  {
   "cell_type": "code",
   "execution_count": 28,
   "metadata": {},
   "outputs": [
    {
     "data": {
      "text/latex": [
       "$\\displaystyle a c=b$"
      ],
      "text/plain": [
       "a*c=b"
      ]
     },
     "execution_count": 28,
     "metadata": {},
     "output_type": "execute_result"
    }
   ],
   "source": [
    "t*c"
   ]
  },
  {
   "cell_type": "code",
   "execution_count": 29,
   "metadata": {},
   "outputs": [
    {
     "data": {
      "text/latex": [
       "$\\displaystyle \\frac{a}{b}=\\frac{1}{c}$"
      ],
      "text/plain": [
       "a/b=1/c"
      ]
     },
     "execution_count": 29,
     "metadata": {},
     "output_type": "execute_result"
    }
   ],
   "source": [
    "t/b"
   ]
  },
  {
   "cell_type": "code",
   "execution_count": 30,
   "metadata": {},
   "outputs": [
    {
     "data": {
      "text/latex": [
       "$\\displaystyle c=\\frac{b}{a}$"
      ],
      "text/plain": [
       "c=b/a"
      ]
     },
     "execution_count": 30,
     "metadata": {},
     "output_type": "execute_result"
    }
   ],
   "source": [
    "t*c/a"
   ]
  },
  {
   "cell_type": "code",
   "execution_count": 31,
   "metadata": {},
   "outputs": [
    {
     "data": {
      "text/latex": [
       "$\\displaystyle c=\\frac{b}{a}$"
      ],
      "text/plain": [
       "c=b/a"
      ]
     },
     "execution_count": 31,
     "metadata": {},
     "output_type": "execute_result"
    }
   ],
   "source": [
    "c*t/a"
   ]
  },
  {
   "cell_type": "code",
   "execution_count": 32,
   "metadata": {},
   "outputs": [
    {
     "data": {
      "text/latex": [
       "$\\displaystyle 0=- a + \\frac{b}{c}$"
      ],
      "text/plain": [
       "0=-a + b/c"
      ]
     },
     "execution_count": 32,
     "metadata": {},
     "output_type": "execute_result"
    }
   ],
   "source": [
    "t-a"
   ]
  },
  {
   "cell_type": "code",
   "execution_count": 33,
   "metadata": {},
   "outputs": [
    {
     "data": {
      "text/latex": [
       "$\\displaystyle b^{2}=\\frac{a}{c^{2}}$"
      ],
      "text/plain": [
       "b**2=a/c**2"
      ]
     },
     "execution_count": 33,
     "metadata": {},
     "output_type": "execute_result"
    }
   ],
   "source": [
    "r=Eqn(b**2,a/c**2)\n",
    "r"
   ]
  },
  {
   "cell_type": "code",
   "execution_count": 34,
   "metadata": {},
   "outputs": [
    {
     "data": {
      "text/latex": [
       "$\\displaystyle \\sqrt{b^{2}}=\\sqrt{\\frac{a}{c^{2}}}$"
      ],
      "text/plain": [
       "sqrt(b**2)=sqrt(a/c**2)"
      ]
     },
     "execution_count": 34,
     "metadata": {},
     "output_type": "execute_result"
    }
   ],
   "source": [
    "r.applyfunc(sqrt)"
   ]
  },
  {
   "cell_type": "code",
   "execution_count": 35,
   "metadata": {},
   "outputs": [
    {
     "data": {
      "text/latex": [
       "$\\displaystyle a^{0.5}=\\left(\\frac{b}{c}\\right)^{0.5}$"
      ],
      "text/plain": [
       "a**0.5=(b/c)**0.5"
      ]
     },
     "execution_count": 35,
     "metadata": {},
     "output_type": "execute_result"
    }
   ],
   "source": [
    "t**(1/2)"
   ]
  },
  {
   "cell_type": "code",
   "execution_count": 36,
   "metadata": {},
   "outputs": [
    {
     "data": {
      "text/latex": [
       "$\\displaystyle \\left(b^{2}\\right)^{0.5}=0.353553390593274$"
      ],
      "text/plain": [
       "(b**2)**0.5=0.353553390593274"
      ]
     },
     "execution_count": 36,
     "metadata": {},
     "output_type": "execute_result"
    }
   ],
   "source": [
    "(r**(1/2)).subs({a:2,c:4})"
   ]
  },
  {
   "cell_type": "code",
   "execution_count": 37,
   "metadata": {},
   "outputs": [
    {
     "data": {
      "text/latex": [
       "$\\displaystyle \\left(b^{2}\\right)^{0.5}=0.3536$"
      ],
      "text/plain": [
       "(b**2)**0.5=0.3536"
      ]
     },
     "execution_count": 37,
     "metadata": {},
     "output_type": "execute_result"
    }
   ],
   "source": [
    "(r**(1/2)).evalf(n=4,subs={a:2,c:4})"
   ]
  },
  {
   "cell_type": "code",
   "execution_count": 38,
   "metadata": {},
   "outputs": [
    {
     "data": {
      "text/latex": [
       "$\\displaystyle \\sqrt{b^{2}}=\\frac{\\sqrt{2}}{4}$"
      ],
      "text/plain": [
       "sqrt(b**2)=sqrt(2)/4"
      ]
     },
     "execution_count": 38,
     "metadata": {},
     "output_type": "execute_result"
    }
   ],
   "source": [
    "r.applyfunc(sqrt).subs({a:2,c:4})"
   ]
  },
  {
   "cell_type": "code",
   "execution_count": 39,
   "metadata": {},
   "outputs": [
    {
     "data": {
      "text/latex": [
       "$\\displaystyle x^{2} - 1=c$"
      ],
      "text/plain": [
       "x**2 - 1=c"
      ]
     },
     "execution_count": 39,
     "metadata": {},
     "output_type": "execute_result"
    }
   ],
   "source": [
    "var('x')\n",
    "f = Eqn(x**2 - 1, c)\n",
    "f"
   ]
  },
  {
   "cell_type": "code",
   "execution_count": 40,
   "metadata": {},
   "outputs": [
    {
     "data": {
      "text/latex": [
       "$\\displaystyle \\frac{x^{2} - 1}{x + 1}=\\frac{c}{x + 1}$"
      ],
      "text/plain": [
       "(x**2 - 1)/(x + 1)=c/(x + 1)"
      ]
     },
     "execution_count": 40,
     "metadata": {},
     "output_type": "execute_result"
    }
   ],
   "source": [
    "f/(x+1)"
   ]
  },
  {
   "cell_type": "code",
   "execution_count": 41,
   "metadata": {},
   "outputs": [
    {
     "data": {
      "text/latex": [
       "$\\displaystyle x - 1=\\frac{c}{x + 1}$"
      ],
      "text/plain": [
       "x - 1=c/(x + 1)"
      ]
     },
     "execution_count": 41,
     "metadata": {},
     "output_type": "execute_result"
    }
   ],
   "source": [
    "(f/(x+1)).simplify()"
   ]
  },
  {
   "cell_type": "code",
   "execution_count": 42,
   "metadata": {},
   "outputs": [
    {
     "data": {
      "text/latex": [
       "$\\displaystyle V p=R T n$"
      ],
      "text/plain": [
       "V*p=R*T*n"
      ]
     },
     "execution_count": 42,
     "metadata": {},
     "output_type": "execute_result"
    }
   ],
   "source": [
    "# Ideal Gas Law\n",
    "var('p V n R T')\n",
    "eq1=Eqn(p*V,n*R*T)\n",
    "eq1"
   ]
  },
  {
   "cell_type": "code",
   "execution_count": 43,
   "metadata": {},
   "outputs": [
    {
     "data": {
      "text/latex": [
       "$\\displaystyle p=\\frac{R T n}{V}$"
      ],
      "text/plain": [
       "p=R*T*n/V"
      ]
     },
     "execution_count": 43,
     "metadata": {},
     "output_type": "execute_result"
    }
   ],
   "source": [
    "eq2 =eq1/V\n",
    "eq2"
   ]
  },
  {
   "cell_type": "code",
   "execution_count": 44,
   "metadata": {},
   "outputs": [
    {
     "data": {
      "text/latex": [
       "$\\displaystyle V=\\frac{R T n}{p}$"
      ],
      "text/plain": [
       "V=R*T*n/p"
      ]
     },
     "execution_count": 44,
     "metadata": {},
     "output_type": "execute_result"
    }
   ],
   "source": [
    "eq3 = eq1/p\n",
    "eq3"
   ]
  },
  {
   "cell_type": "code",
   "execution_count": 45,
   "metadata": {},
   "outputs": [
    {
     "data": {
      "text/latex": [
       "$\\displaystyle \\frac{V p}{R n}=T$"
      ],
      "text/plain": [
       "V*p/(R*n)=T"
      ]
     },
     "execution_count": 45,
     "metadata": {},
     "output_type": "execute_result"
    }
   ],
   "source": [
    "eq4 = eq1/n/R\n",
    "eq4"
   ]
  },
  {
   "cell_type": "code",
   "execution_count": 46,
   "metadata": {},
   "outputs": [
    {
     "data": {
      "text/latex": [
       "$\\displaystyle E=Eo - \\frac{R T \\ln{\\left(Q \\right)}}{F z}$"
      ],
      "text/plain": [
       "E=Eo - R*T*ln(Q)/(F*z)"
      ]
     },
     "execution_count": 46,
     "metadata": {},
     "output_type": "execute_result"
    }
   ],
   "source": [
    "# Nernst Equation\n",
    "var('E Eo z F Q')\n",
    "N1=Eqn(E,Eo-(R*T/z/F)*ln(Q))\n",
    "N1"
   ]
  },
  {
   "cell_type": "code",
   "execution_count": 47,
   "metadata": {},
   "outputs": [
    {
     "data": {
      "text/latex": [
       "$\\displaystyle E + \\frac{R T \\ln{\\left(Q \\right)}}{F z}=Eo$"
      ],
      "text/plain": [
       "E + R*T*ln(Q)/(F*z)=Eo"
      ]
     },
     "execution_count": 47,
     "metadata": {},
     "output_type": "execute_result"
    }
   ],
   "source": [
    "N2 = N1+(R*T/z/F)*ln(Q)\n",
    "N2"
   ]
  },
  {
   "cell_type": "code",
   "execution_count": 48,
   "metadata": {},
   "outputs": [
    {
     "data": {
      "text/latex": [
       "$\\displaystyle R T \\ln{\\left(Q \\right)}=F z \\left(- E + Eo\\right)$"
      ],
      "text/plain": [
       "R*T*ln(Q)=F*z*(-E + Eo)"
      ]
     },
     "execution_count": 48,
     "metadata": {},
     "output_type": "execute_result"
    }
   ],
   "source": [
    "N3 = (N2 -E)*F*z\n",
    "N3"
   ]
  },
  {
   "cell_type": "code",
   "execution_count": 49,
   "metadata": {},
   "outputs": [
    {
     "data": {
      "text/latex": [
       "$\\displaystyle \\ln{\\left(Q \\right)}=\\frac{F z \\left(- E + Eo\\right)}{R T}$"
      ],
      "text/plain": [
       "ln(Q)=F*z*(-E + Eo)/(R*T)"
      ]
     },
     "execution_count": 49,
     "metadata": {},
     "output_type": "execute_result"
    }
   ],
   "source": [
    "N4 = N3/T/R\n",
    "N4"
   ]
  },
  {
   "cell_type": "code",
   "execution_count": 50,
   "metadata": {},
   "outputs": [
    {
     "data": {
      "text/latex": [
       "$\\displaystyle Q=e^{\\frac{F z \\left(- E + Eo\\right)}{R T}}$"
      ],
      "text/plain": [
       "Q=exp(F*z*(-E + Eo)/(R*T))"
      ]
     },
     "execution_count": 50,
     "metadata": {},
     "output_type": "execute_result"
    }
   ],
   "source": [
    "N5=exp(N4)\n",
    "N5"
   ]
  },
  {
   "cell_type": "code",
   "execution_count": 51,
   "metadata": {},
   "outputs": [
    {
     "name": "stdout",
     "output_type": "stream",
     "text": [
      "\"=\" is the only relational operator presently supported in Equations.\n",
      "The argument 'a=b/c' is not comparable.\n",
      "You must specify `side=\"lhs\"` or `side=\"rhs\"` when integrating an Equation\n",
      "`side` must equal \"lhs\" or \"rhs\".\n",
      "WARNING: did your really mean to define unequal numbers as equal? 2.00000000000000=3.00000000000000\n"
     ]
    },
    {
     "data": {
      "text/latex": [
       "$\\displaystyle 2.0=3.0$"
      ],
      "text/plain": [
       "2.00000000000000=3.00000000000000"
      ]
     },
     "execution_count": 51,
     "metadata": {},
     "output_type": "execute_result"
    }
   ],
   "source": [
    "# Test for errors\n",
    "try:\n",
    "    Eqn(a,b/c,'>')\n",
    "except NotImplementedError as e:\n",
    "    print(e)\n",
    "try:\n",
    "   Max(Eqn(a,b/c))\n",
    "except ValueError as e:\n",
    "    print(e)\n",
    "try:\n",
    "    integrate(Eqn(a,b/c),b)\n",
    "except ValueError as e:\n",
    "    print(e)\n",
    "try:\n",
    "    integrate(Eqn(a,b/c),b,side='right')\n",
    "except AttributeError as e:\n",
    "    print(e)\n",
    "Eqn(2.0,3.0)"
   ]
  },
  {
   "cell_type": "code",
   "execution_count": 52,
   "metadata": {},
   "outputs": [
    {
     "data": {
      "text/latex": [
       "$\\displaystyle \\sqrt{a}=\\sqrt{\\frac{b}{c}}$"
      ],
      "text/plain": [
       "sqrt(a)=sqrt(b/c)"
      ]
     },
     "execution_count": 52,
     "metadata": {},
     "output_type": "execute_result"
    }
   ],
   "source": [
    "sqrt(t)"
   ]
  },
  {
   "cell_type": "code",
   "execution_count": 53,
   "metadata": {},
   "outputs": [
    {
     "data": {
      "text/latex": [
       "$\\displaystyle \\sqrt[3]{a}=\\sqrt[3]{\\frac{b}{c}}$"
      ],
      "text/plain": [
       "a**(1/3)=(b/c)**(1/3)"
      ]
     },
     "execution_count": 53,
     "metadata": {},
     "output_type": "execute_result"
    }
   ],
   "source": [
    "root(t,3)"
   ]
  },
  {
   "cell_type": "code",
   "execution_count": 54,
   "metadata": {},
   "outputs": [
    {
     "data": {
      "text/latex": [
       "$\\displaystyle \\sqrt[3]{a}=\\sqrt[3]{\\frac{b}{c}}$"
      ],
      "text/plain": [
       "a**(1/3)=(b/c)**(1/3)"
      ]
     },
     "execution_count": 54,
     "metadata": {},
     "output_type": "execute_result"
    }
   ],
   "source": [
    "cbrt(t)"
   ]
  },
  {
   "cell_type": "code",
   "execution_count": 55,
   "metadata": {},
   "outputs": [
    {
     "data": {
      "text/latex": [
       "$\\displaystyle a=\\frac{b}{c}$"
      ],
      "text/plain": [
       "a=b/c"
      ]
     },
     "execution_count": 55,
     "metadata": {},
     "output_type": "execute_result"
    }
   ],
   "source": [
    "Id(t)"
   ]
  },
  {
   "cell_type": "code",
   "execution_count": 56,
   "metadata": {},
   "outputs": [
    {
     "data": {
      "text/plain": [
       "(_a=_c**exp_polar(I*pi)*_b, {_a: a, _c: c, _b: b})"
      ]
     },
     "execution_count": 56,
     "metadata": {},
     "output_type": "execute_result"
    }
   ],
   "source": [
    "polarify(t)"
   ]
  },
  {
   "cell_type": "code",
   "execution_count": 57,
   "metadata": {},
   "outputs": [],
   "source": [
    "Eqn?"
   ]
  },
  {
   "cell_type": "code",
   "execution_count": null,
   "metadata": {},
   "outputs": [],
   "source": []
  }
 ],
 "metadata": {
  "kernelspec": {
   "display_name": "Python 3",
   "language": "python",
   "name": "python3"
  },
  "language_info": {
   "codemirror_mode": {
    "name": "ipython",
    "version": 3
   },
   "file_extension": ".py",
   "mimetype": "text/x-python",
   "name": "python",
   "nbconvert_exporter": "python",
   "pygments_lexer": "ipython3",
   "version": "3.6.9"
  }
 },
 "nbformat": 4,
 "nbformat_minor": 4
}
