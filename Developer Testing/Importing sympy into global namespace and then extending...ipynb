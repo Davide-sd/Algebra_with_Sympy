{
 "cells": [
  {
   "cell_type": "code",
   "execution_count": 4,
   "metadata": {},
   "outputs": [],
   "source": [
    "from sympy import *"
   ]
  },
  {
   "cell_type": "code",
   "execution_count": 5,
   "metadata": {},
   "outputs": [
    {
     "data": {
      "text/latex": [
       "$\\displaystyle \\frac{a b}{c}$"
      ],
      "text/plain": [
       "a*b/c"
      ]
     },
     "execution_count": 5,
     "metadata": {},
     "output_type": "execute_result"
    }
   ],
   "source": [
    "var('a b c')\n",
    "t=a*b/c\n",
    "t"
   ]
  },
  {
   "cell_type": "code",
   "execution_count": 57,
   "metadata": {},
   "outputs": [],
   "source": [
    "class Equation(Expr):\n",
    "    \n",
    "    _op_priority = 11.0\n",
    "    \n",
    "    def __init__(self,lhs,rhs,relop='='):\n",
    "        if not(relop == '='):\n",
    "           raise NotImplementedError('\"=\" is the only relational operator presently supported in Equations.')        \n",
    "        self.lhs = lhs\n",
    "        self.rhs = rhs\n",
    "    \n",
    "#    def __init__(self,lhs,rhs,**kwargs):\n",
    "#        pass\n",
    "#####\n",
    "# Overrides of sp.Expr Arithmatic\n",
    "#####\n",
    "    def __pos__(self):\n",
    "        return self\n",
    "\n",
    "    def __neg__(self):\n",
    "        # Mul has its own __neg__ routine, so we just\n",
    "        # create a 2-args Mul with the -1 in the canonical\n",
    "        # slot 0.\n",
    "        c = self.is_commutative\n",
    "        lhs =Mul._from_args((S.NegativeOne, self.lhs), c)\n",
    "        rhs =Mul._from_args((S.NegativeOne, self.rhs), c)        \n",
    "        return equ(lhs,rhs)\n",
    "\n",
    "    def __abs__(self):\n",
    "        from sympy import Abs\n",
    "        lhs=Abs(self.lhs)\n",
    "        rhs=Abs(self.rhs)\n",
    "        return equ(lhs,rhs)\n",
    "\n",
    "    def __add__(self, other):\n",
    "        lhs = Add(self.lhs,other)\n",
    "        rhs = Add(self.rhs,other)\n",
    "        return equ(lhs,rhs)\n",
    "\n",
    "    def __radd__(self, other):\n",
    "        lhs = Add(other,self.lhs)\n",
    "        rhs = Add(other,self.rhs)\n",
    "        return equ(lhs,rhs)\n",
    "\n",
    "    def __sub__(self, other):\n",
    "        lhs = Add(self.lhs,-other)\n",
    "        rhs = Add(self.rhs,-other)\n",
    "        return equ(lhs,rhs)\n",
    "\n",
    "    def __rsub__(self, other):\n",
    "        lhs = Add(other,-self.lhs)\n",
    "        rhs = Add(other,-self.rhs)\n",
    "        return equ(lhs,rhs)\n",
    "\n",
    "    def __mul__(self, other):\n",
    "        lhs = Mul(self.lhs,other)\n",
    "        rhs = Mul(self.rhs,other)\n",
    "        return equ(lhs,rhs)\n",
    "    \n",
    "    def __rmul__(self, other):\n",
    "        lhs = Mul(other,self.lhs)\n",
    "        rhs = Mul(other,self.rhs)\n",
    "        return equ(lhs,rhs)\n",
    "\n",
    "    def _pow(self, other):\n",
    "        lhs = Pow(self.lhs,other)\n",
    "        rhs = Pow(self.rhs,other)\n",
    "        return equ(lhs,rhs)\n",
    "\n",
    "    def __rpow__(self,other):\n",
    "        lhs = Pow(other,self.lhs)\n",
    "        rhs = Pow(other,self.rhs)\n",
    "        return equ(lhs,rhs)\n",
    "\n",
    "    def __div__(self, other):\n",
    "        return self.__mul__(Pow(other, S.NegativeOne))\n",
    "\n",
    "    def __rdiv__(self, other):\n",
    "        raise NotImplemented('Division by equation not supported.')\n",
    "\n",
    "    __truediv__ = __div__\n",
    "    __rtruediv__ = __rdiv__\n",
    "\n",
    "    def __mod__(self, other):\n",
    "        lhs = Mod(self.lhs,other)\n",
    "        rhs = Mod(self.rhs,other)\n",
    "        return equ(lhs,rhs)\n",
    "\n",
    "    def __rmod__(self, other):\n",
    "        raise NotImplemented('Mod by equation not supported.')\n",
    "            \n",
    "    def __repr__(self):\n",
    "        return(str(self.lhs)+' = '+str(self.rhs))\n",
    "    \n",
    "    def _latex(self,obj,**kwargs):\n",
    "        return(latex(self.lhs)+'='+latex(self.rhs))\n",
    "\n",
    "equ = Equation\n",
    "\n",
    "class Function(Function):\n",
    "    def __new__(cls, *arg, **kwargs):\n",
    "        if (type(arg[0]) is Equation):\n",
    "            temptuple=(arg[0].lhs,)+arg[1:]\n",
    "            lhs = super().__new__(cls, *temptuple, **kwargs)\n",
    "            temptuple=(arg[0].rhs,)+arg[1:]\n",
    "            rhs = super().__new__(cls, *temptuple, **kwargs)\n",
    "            return (equ(lhs,rhs))\n",
    "        else:\n",
    "            return(super().__new__(cls, *arg, **kwargs))\n",
    "        \n",
    "for func in functions.__all__:\n",
    "    # listed in `skip` cannot be extended because of `mro` error or `metaclass conflict`.\n",
    "    skip=['sqrt','root','Min','Max','Id','real_root','cbrt','unbranched_argument','polarify','unpolarify',\n",
    "         'piecewise_fold','E1','Eijk','bspline_basis','bspline_basis_set','interpolating_spline','jn_zeros',\n",
    "          'jacobi_normalized','Ynm_c']\n",
    "    if func not in skip:\n",
    "        execstr = 'class '+str(func)+'(Function, '+str(func)+'):\\n    pass\\n'\n",
    "        exec(execstr,globals(),locals())"
   ]
  },
  {
   "cell_type": "code",
   "execution_count": 58,
   "metadata": {},
   "outputs": [
    {
     "data": {
      "text/latex": [
       "$\\displaystyle a=\\frac{b}{c}$"
      ],
      "text/plain": [
       "a = b/c"
      ]
     },
     "execution_count": 58,
     "metadata": {},
     "output_type": "execute_result"
    }
   ],
   "source": [
    "t=equ(a,b/c)\n",
    "t"
   ]
  },
  {
   "cell_type": "code",
   "execution_count": 59,
   "metadata": {},
   "outputs": [
    {
     "data": {
      "text/latex": [
       "$\\displaystyle \\log{\\left(a \\right)}=\\log{\\left(\\frac{b}{c} \\right)}$"
      ],
      "text/plain": [
       "log(a) = log(b/c)"
      ]
     },
     "execution_count": 59,
     "metadata": {},
     "output_type": "execute_result"
    }
   ],
   "source": [
    "log(t)"
   ]
  },
  {
   "cell_type": "code",
   "execution_count": 60,
   "metadata": {},
   "outputs": [
    {
     "data": {
      "text/plain": [
       "__main__.Equation"
      ]
     },
     "execution_count": 60,
     "metadata": {},
     "output_type": "execute_result"
    }
   ],
   "source": [
    "type(t)"
   ]
  },
  {
   "cell_type": "code",
   "execution_count": 61,
   "metadata": {},
   "outputs": [
    {
     "data": {
      "text/latex": [
       "$\\displaystyle a c=b$"
      ],
      "text/plain": [
       "a*c = b"
      ]
     },
     "execution_count": 61,
     "metadata": {},
     "output_type": "execute_result"
    }
   ],
   "source": [
    "c*t"
   ]
  },
  {
   "cell_type": "code",
   "execution_count": 62,
   "metadata": {},
   "outputs": [
    {
     "data": {
      "text/latex": [
       "$\\displaystyle a c=b$"
      ],
      "text/plain": [
       "a*c = b"
      ]
     },
     "execution_count": 62,
     "metadata": {},
     "output_type": "execute_result"
    }
   ],
   "source": [
    "t*c"
   ]
  },
  {
   "cell_type": "code",
   "execution_count": 63,
   "metadata": {},
   "outputs": [
    {
     "data": {
      "text/latex": [
       "$\\displaystyle a c - b=0$"
      ],
      "text/plain": [
       "a*c - b = 0"
      ]
     },
     "execution_count": 63,
     "metadata": {},
     "output_type": "execute_result"
    }
   ],
   "source": [
    "t*c-b"
   ]
  },
  {
   "cell_type": "code",
   "execution_count": 64,
   "metadata": {},
   "outputs": [
    {
     "data": {
      "text/latex": [
       "$\\displaystyle - a + b=b - \\frac{b}{c}$"
      ],
      "text/plain": [
       "-a + b = b - b/c"
      ]
     },
     "execution_count": 64,
     "metadata": {},
     "output_type": "execute_result"
    }
   ],
   "source": [
    "b-t"
   ]
  },
  {
   "cell_type": "code",
   "execution_count": 65,
   "metadata": {},
   "outputs": [
    {
     "ename": "NotImplementedError",
     "evalue": "\"=\" is the only relational operator presently supported in Equations.",
     "output_type": "error",
     "traceback": [
      "\u001b[0;31m---------------------------------------------------------------------------\u001b[0m",
      "\u001b[0;31mNotImplementedError\u001b[0m                       Traceback (most recent call last)",
      "\u001b[0;32m<ipython-input-65-242f6bd0d041>\u001b[0m in \u001b[0;36m<module>\u001b[0;34m\u001b[0m\n\u001b[0;32m----> 1\u001b[0;31m \u001b[0mequ\u001b[0m\u001b[0;34m(\u001b[0m\u001b[0ma\u001b[0m\u001b[0;34m,\u001b[0m\u001b[0mc\u001b[0m\u001b[0;34m/\u001b[0m\u001b[0mb\u001b[0m\u001b[0;34m,\u001b[0m\u001b[0;34m'>'\u001b[0m\u001b[0;34m)\u001b[0m\u001b[0;34m\u001b[0m\u001b[0;34m\u001b[0m\u001b[0m\n\u001b[0m",
      "\u001b[0;32m<ipython-input-57-4a1db24c2cc0>\u001b[0m in \u001b[0;36m__init__\u001b[0;34m(self, lhs, rhs, relop)\u001b[0m\n\u001b[1;32m      5\u001b[0m     \u001b[0;32mdef\u001b[0m \u001b[0m__init__\u001b[0m\u001b[0;34m(\u001b[0m\u001b[0mself\u001b[0m\u001b[0;34m,\u001b[0m\u001b[0mlhs\u001b[0m\u001b[0;34m,\u001b[0m\u001b[0mrhs\u001b[0m\u001b[0;34m,\u001b[0m\u001b[0mrelop\u001b[0m\u001b[0;34m=\u001b[0m\u001b[0;34m'='\u001b[0m\u001b[0;34m)\u001b[0m\u001b[0;34m:\u001b[0m\u001b[0;34m\u001b[0m\u001b[0;34m\u001b[0m\u001b[0m\n\u001b[1;32m      6\u001b[0m         \u001b[0;32mif\u001b[0m \u001b[0;32mnot\u001b[0m\u001b[0;34m(\u001b[0m\u001b[0mrelop\u001b[0m \u001b[0;34m==\u001b[0m \u001b[0;34m'='\u001b[0m\u001b[0;34m)\u001b[0m\u001b[0;34m:\u001b[0m\u001b[0;34m\u001b[0m\u001b[0;34m\u001b[0m\u001b[0m\n\u001b[0;32m----> 7\u001b[0;31m            \u001b[0;32mraise\u001b[0m \u001b[0mNotImplementedError\u001b[0m\u001b[0;34m(\u001b[0m\u001b[0;34m'\"=\" is the only relational operator presently supported in Equations.'\u001b[0m\u001b[0;34m)\u001b[0m\u001b[0;34m\u001b[0m\u001b[0;34m\u001b[0m\u001b[0m\n\u001b[0m\u001b[1;32m      8\u001b[0m         \u001b[0mself\u001b[0m\u001b[0;34m.\u001b[0m\u001b[0mlhs\u001b[0m \u001b[0;34m=\u001b[0m \u001b[0mlhs\u001b[0m\u001b[0;34m\u001b[0m\u001b[0;34m\u001b[0m\u001b[0m\n\u001b[1;32m      9\u001b[0m         \u001b[0mself\u001b[0m\u001b[0;34m.\u001b[0m\u001b[0mrhs\u001b[0m \u001b[0;34m=\u001b[0m \u001b[0mrhs\u001b[0m\u001b[0;34m\u001b[0m\u001b[0;34m\u001b[0m\u001b[0m\n",
      "\u001b[0;31mNotImplementedError\u001b[0m: \"=\" is the only relational operator presently supported in Equations."
     ]
    }
   ],
   "source": [
    "equ(a,c/b,'>')"
   ]
  },
  {
   "cell_type": "code",
   "execution_count": 47,
   "metadata": {},
   "outputs": [
    {
     "ename": "TypeError",
     "evalue": "__new__() got an unexpected keyword argument 'relop'",
     "output_type": "error",
     "traceback": [
      "\u001b[0;31m---------------------------------------------------------------------------\u001b[0m",
      "\u001b[0;31mTypeError\u001b[0m                                 Traceback (most recent call last)",
      "\u001b[0;32m<ipython-input-47-ded979b05128>\u001b[0m in \u001b[0;36m<module>\u001b[0;34m\u001b[0m\n\u001b[0;32m----> 1\u001b[0;31m \u001b[0mequ\u001b[0m\u001b[0;34m(\u001b[0m\u001b[0ma\u001b[0m\u001b[0;34m,\u001b[0m\u001b[0mc\u001b[0m\u001b[0;34m/\u001b[0m\u001b[0mb\u001b[0m\u001b[0;34m,\u001b[0m\u001b[0mrelop\u001b[0m\u001b[0;34m=\u001b[0m\u001b[0;34m'>'\u001b[0m\u001b[0;34m)\u001b[0m\u001b[0;34m\u001b[0m\u001b[0;34m\u001b[0m\u001b[0m\n\u001b[0m",
      "\u001b[0;31mTypeError\u001b[0m: __new__() got an unexpected keyword argument 'relop'"
     ]
    }
   ],
   "source": []
  },
  {
   "cell_type": "code",
   "execution_count": null,
   "metadata": {},
   "outputs": [],
   "source": []
  }
 ],
 "metadata": {
  "kernelspec": {
   "display_name": "Python 3",
   "language": "python",
   "name": "python3"
  },
  "language_info": {
   "codemirror_mode": {
    "name": "ipython",
    "version": 3
   },
   "file_extension": ".py",
   "mimetype": "text/x-python",
   "name": "python",
   "nbconvert_exporter": "python",
   "pygments_lexer": "ipython3",
   "version": "3.6.9"
  }
 },
 "nbformat": 4,
 "nbformat_minor": 4
}
